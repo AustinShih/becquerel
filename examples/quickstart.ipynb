{
 "cells": [
  {
   "cell_type": "markdown",
   "metadata": {},
   "source": [
    "# 0. Becquerel\n",
    "\n",
    "### Description\n",
    "\n",
    "\n",
    "- Python 2/3 package\n",
    "- Normal scientific Python distribution dependancies\n",
    "  - Except `uncertainties` which is a quick `pip` install\n",
    " \n",
    " \n",
    "### Installation\n",
    "\n",
    "```bash\n",
    "git clone https://github.com/lbl-anp/becquerel.git\n",
    "cd becquerel\n",
    "pip install -r requirements.txt\n",
    "python setup.py install\n",
    "```\n",
    "\n",
    "### Distribution:\n",
    "\n",
    "- Open source: https://github.com/lbl-anp/becquerel\n",
    "- Modified (for UC Regents) [3 Clause BSD License](https://opensource.org/licenses/BSD-3-Clause) \n",
    "- <img src=\"https://upload.wikimedia.org/wikipedia/commons/b/bf/License_icon-bsd.svg\" alt=\"BSD\" style=\"width: 30px;\" align=\"left\"/>\n",
    "\n",
    "### Contributors as of April 6, 2018:\n",
    "\n",
    "- bplimley\n",
    "- markbandstra\n",
    "- thjoshi\n",
    "- jccurtis\n",
    "- chunhochow\n",
    "- *alihanks*"
   ]
  },
  {
   "cell_type": "code",
   "execution_count": 1,
   "metadata": {},
   "outputs": [],
   "source": [
    "import matplotlib.pyplot as plt\n",
    "import numpy as np\n",
    "import pandas as pd\n",
    "import becquerel as bq"
   ]
  },
  {
   "cell_type": "markdown",
   "metadata": {},
   "source": [
    "# Ideas:\n",
    "\n",
    "Spectrum Class\n",
    "- Reading\n",
    "- add/sub (Spectrum)\n",
    "- mul/div (scalar)\n"
   ]
  },
  {
   "cell_type": "markdown",
   "metadata": {},
   "source": [
    "# 1. `bq.Spectrum`\n",
    "\n",
    "The core class in `bq` is `Spectrum`. This contains a variety of tools for handling **single spectrum** data."
   ]
  },
  {
   "cell_type": "code",
   "execution_count": 2,
   "metadata": {},
   "outputs": [
    {
     "name": "stdout",
     "output_type": "stream",
     "text": [
      "\n",
      "    Represents an energy spectrum.\n",
      "\n",
      "    Initialize a Spectrum directly, or with Spectrum.from_file(filename).\n",
      "\n",
      "    Note on livetime:\n",
      "      A livetime of None is the default for a counts-based spectrum, and\n",
      "        indicates a missing or unknown livetime.\n",
      "      A livetime of np.nan is the default for a CPS-based spectrum, and\n",
      "        indicates that livetime is not a meaningful quantity for this type of\n",
      "        spectrum.\n",
      "      Either of these types of spectrum may be initialized with a livetime\n",
      "        value. However, any operation that produces a CPS-based spectrum\n",
      "        (such as a spectrum subtraction) will discard the livetime and set it\n",
      "        to np.nan since livetime is then a meaningless quantity.\n",
      "      Operations that produce a counts-based spectrum may or may not preserve a\n",
      "        livetime value (for example, the sum of two spectra has a livetime\n",
      "        equal to the sum of the two livetimes; but a scalar multiplication or\n",
      "        division results in a livetime of None).\n",
      "\n",
      "    Data Attributes:\n",
      "      bin_edges_kev: np.array of energy bin edges, if calibrated\n",
      "      livetime: int or float of livetime, in seconds. See note above\n",
      "      realtime: int or float of realtime, in seconds. May be None\n",
      "      infilename: the filename the spectrum was loaded from, if applicable\n",
      "      start_time: a datetime.datetime object representing the acquisition start\n",
      "      stop_time: a datetime.datetime object representing the acquisition end\n",
      "\n",
      "    Properties (read-only):\n",
      "      counts: counts in each channel, with uncertainty\n",
      "      counts_vals: counts in each channel, no uncertainty\n",
      "      counts_uncs: uncertainties on counts in each channel\n",
      "      cps: counts per second in each channel, with uncertainty\n",
      "      cps_vals: counts per second in each channel, no uncertainty\n",
      "      cps_uncs: uncertainties on counts per second in each channel\n",
      "      cpskev: CPS/keV in each channel, with uncertainty\n",
      "      cpskev_vals: CPS/keV in each channel, no uncertainty\n",
      "      cpskev_uncs: uncertainties on CPS/keV in each channel\n",
      "      channels: np.array of channel index as integers\n",
      "      is_calibrated: bool indicating calibration status\n",
      "      energies_kev: np.array of energy bin centers, if calibrated\n",
      "      bin_widths: np.array of energy bin widths, if calibrated\n",
      "\n",
      "    Methods:\n",
      "      apply_calibration: use an EnergyCal object to calibrate this spectrum\n",
      "      calibrate_like: copy the calibrated bin edges from another spectrum\n",
      "      rm_calibration: remove the calibrated bin edges\n",
      "      combine_bins: make a new Spectrum with counts combined into bigger bins\n",
      "      downsample: make a new Spectrum, downsampled from this one by a factor\n",
      "      copy: return a deep copy of this Spectrum object\n",
      "    \n"
     ]
    }
   ],
   "source": [
    "print(bq.Spectrum.__doc__)"
   ]
  },
  {
   "cell_type": "code",
   "execution_count": 3,
   "metadata": {},
   "outputs": [
    {
     "name": "stdout",
     "output_type": "stream",
     "text": [
      "Initialize the spectrum.\n",
      "\n",
      "        Either counts or cps must be specified. Other args are optional.\n",
      "        If start_time, stop_time, and realtime are being provided, only two of\n",
      "        these should be specified as arguments, and the third will be\n",
      "        calculated from the other two.\n",
      "\n",
      "        See note on livetime in class docstring. As a reminder:\n",
      "          livetime = None indicates a missing or unknown livetime, and may\n",
      "            occur in a counts-based spectrum.\n",
      "          livetime = np.nan indicates that livetime is not meaningful, and may\n",
      "            occur in a CPS-based spectrum.\n",
      "\n",
      "        Args:\n",
      "          counts: counts per channel. array-like of ints, floats or UFloats\n",
      "          cps: counts per second per channel. array-like of floats or UFloats\n",
      "          uncs (optional): an iterable of uncertainty on the counts for each\n",
      "            channel.\n",
      "            If counts is given, is NOT a UFloat type, and uncs is not given,\n",
      "            the uncertainties are assumed to be sqrt(N), with a minimum\n",
      "            uncertainty of 1 (e.g. for 0 counts).\n",
      "            If cps is given, uncs defaults to an array of np.nan\n",
      "          bin_edges_kev (optional): an iterable of bin edge energies\n",
      "            If not none, should have length of (len(counts) + 1)\n",
      "          input_file_object (optional): a parser file object\n",
      "          livetime (optional): the livetime of the spectrum [s]\n",
      "            Note that livetime is not preserved through CPS-based operations,\n",
      "            such as any subtraction, or addition with a CPS-based spectrum.\n",
      "          realtime (optional): the duration of the acquisition [s]\n",
      "          start_time (optional): datetime or string representing the\n",
      "            acquisition start\n",
      "          stop_time (optional): datetime or string representing the acquisition\n",
      "            end.\n",
      "\n",
      "        Raises:\n",
      "          ValueError: for bin edges not monotonically increasing;\n",
      "            livetime > realtime; or start_time > stop_time\n",
      "          SpectrumError: for bad input arguments\n",
      "          UncertaintiesError: if uncertainties are overspecified or of mixed\n",
      "            types\n",
      "          TypeError: for bad type on input args (start_time, stop_time)\n",
      "        \n"
     ]
    }
   ],
   "source": [
    "print(bq.Spectrum.__init__.__doc__)"
   ]
  },
  {
   "cell_type": "markdown",
   "metadata": {},
   "source": [
    "## 1.1 Created from scratch"
   ]
  },
  {
   "cell_type": "code",
   "execution_count": 4,
   "metadata": {},
   "outputs": [
    {
     "data": {
      "text/plain": [
       "becquerel.Spectrum\n",
       "    start_time:     None\n",
       "    stop_time:      None\n",
       "    realtime:       None\n",
       "    livetime:       60.0\n",
       "    num_channels:   100\n",
       "    gross_counts:   1000+/-33\n",
       "    gross_cps:      16.7+/-0.5\n",
       "    filename:       None"
      ]
     },
     "execution_count": 4,
     "metadata": {},
     "output_type": "execute_result"
    }
   ],
   "source": [
    "c, be = np.histogram(np.random.poisson(50, 1000), bins=np.arange(101))\n",
    "spec = bq.Spectrum(counts=c, bin_edges_kev=be, livetime=60.)\n",
    "spec"
   ]
  },
  {
   "cell_type": "code",
   "execution_count": 5,
   "metadata": {},
   "outputs": [
    {
     "data": {
      "text/plain": [
       "<matplotlib.axes._subplots.AxesSubplot at 0x180b1b1e10>"
      ]
     },
     "execution_count": 5,
     "metadata": {},
     "output_type": "execute_result"
    },
    {
     "data": {
      "image/png": "[encoded data removed]",
      "text/plain": [
       "<Figure size 432x288 with 1 Axes>"
      ]
     },
     "metadata": {},
     "output_type": "display_data"
    }
   ],
   "source": [
    "spec.plot()"
   ]
  },
  {
   "cell_type": "markdown",
   "metadata": {},
   "source": [
    "## Calibration"
   ]
  },
  {
   "cell_type": "code",
   "execution_count": 4,
   "metadata": {},
   "outputs": [
    {
     "data": {
      "text/plain": [
       "True"
      ]
     },
     "execution_count": 4,
     "metadata": {},
     "output_type": "execute_result"
    }
   ],
   "source": [
    "spec.is_calibrated"
   ]
  },
  {
   "cell_type": "code",
   "execution_count": null,
   "metadata": {},
   "outputs": [],
   "source": [
    "## Other methods"
   ]
  },
  {
   "cell_type": "code",
   "execution_count": null,
   "metadata": {},
   "outputs": [],
   "source": [
    "spec."
   ]
  },
  {
   "cell_type": "code",
   "execution_count": null,
   "metadata": {},
   "outputs": [],
   "source": []
  },
  {
   "cell_type": "code",
   "execution_count": null,
   "metadata": {},
   "outputs": [],
   "source": []
  },
  {
   "cell_type": "markdown",
   "metadata": {},
   "source": [
    "# 1. Short examples"
   ]
  },
  {
   "cell_type": "markdown",
   "metadata": {},
   "source": [
    "## 1a. Spectrum I/O\n",
    "\n",
    "`becquerel` provides parsers for SPE, SPC, and CNF files:"
   ]
  },
  {
   "cell_type": "code",
   "execution_count": 2,
   "metadata": {},
   "outputs": [
    {
     "name": "stdout",
     "output_type": "stream",
     "text": [
      "SpeFile: Reading file ../tests/samples/1110C NAA cave pottery.Spe\n",
      "Line 16414 unknown:  $PRESETS:\n",
      "Line 16415 unknown:  Live Time\n",
      "Line 16416 unknown:  86400\n",
      "Line 16417 unknown:  0\n",
      "Start time: 2017-04-25 12:54:27\n",
      "Stop time:  2017-04-25 17:30:24\n",
      "Real time:  16557.0\n",
      "Live time:  16543.0\n"
     ]
    },
    {
     "data": {
      "image/png": "[encoded data removed]",
      "text/plain": [
       "<Figure size 432x288 with 1 Axes>"
      ]
     },
     "metadata": {},
     "output_type": "display_data"
    }
   ],
   "source": [
    "spec = bq.Spectrum.from_file('../tests/samples/1110C NAA cave pottery.Spe')\n",
    "\n",
    "print('Start time: {}'.format(spec.start_time))\n",
    "print('Stop time:  {}'.format(spec.stop_time))\n",
    "print('Real time:  {}'.format(spec.realtime))\n",
    "print('Live time:  {}'.format(spec.livetime))\n",
    "\n",
    "plt.figure()\n",
    "plt.semilogy(spec.energies_kev, spec.counts_vals, lw=0.5)\n",
    "plt.xlim(0, spec.energies_kev.max())\n",
    "plt.ylim(1)\n",
    "plt.xlabel('Energy (keV)')\n",
    "plt.ylabel('Counts')\n",
    "plt.show()"
   ]
  },
  {
   "cell_type": "code",
   "execution_count": 3,
   "metadata": {},
   "outputs": [
    {
     "data": {
      "text/plain": [
       "becquerel.Spectrum\n",
       "    start_time:     2017-04-25 12:54:27\n",
       "    stop_time:      2017-04-25 17:30:24\n",
       "    realtime:       16557.0\n",
       "    livetime:       16543.0\n",
       "    num_channels:   16384\n",
       "    gross_counts:   (3.047+/-0.006)e+05\n",
       "    gross_cps:      18.419+/-0.034\n",
       "    filename:       ../tests/samples/1110C NAA cave pottery.Spe"
      ]
     },
     "execution_count": 3,
     "metadata": {},
     "output_type": "execute_result"
    }
   ],
   "source": [
    "spec"
   ]
  },
  {
   "cell_type": "markdown",
   "metadata": {},
   "source": [
    "## 1b. Source activity on a given date\n",
    "\n",
    "Here's a check source activity on today's date:"
   ]
  },
  {
   "cell_type": "code",
   "execution_count": 3,
   "metadata": {},
   "outputs": [
    {
     "data": {
      "text/plain": [
       "7.24685817988332"
      ]
     },
     "execution_count": 3,
     "metadata": {},
     "output_type": "execute_result"
    }
   ],
   "source": [
    "ba133_chk = bq.IsotopeQuantity('ba133', date='2013-05-01', uci=10.02)\n",
    "ba133_chk.uci_now()"
   ]
  },
  {
   "cell_type": "markdown",
   "metadata": {},
   "source": [
    "Or for another date:"
   ]
  },
  {
   "cell_type": "code",
   "execution_count": 4,
   "metadata": {},
   "outputs": [
    {
     "data": {
      "text/plain": [
       "7.311855859452171"
      ]
     },
     "execution_count": 4,
     "metadata": {},
     "output_type": "execute_result"
    }
   ],
   "source": [
    "ba133_chk.uci_at('2018-02-16')"
   ]
  },
  {
   "cell_type": "markdown",
   "metadata": {},
   "source": [
    "## 1c. Source lines and branching ratios\n",
    "\n",
    "Here are the gamma-ray lines above 5% branching ratio from Co-60:"
   ]
  },
  {
   "cell_type": "code",
   "execution_count": 5,
   "metadata": {},
   "outputs": [
    {
     "data": {
      "text/html": [
       "<div>\n",
       "<style scoped>\n",
       "    .dataframe tbody tr th:only-of-type {\n",
       "        vertical-align: middle;\n",
       "    }\n",
       "\n",
       "    .dataframe tbody tr th {\n",
       "        vertical-align: top;\n",
       "    }\n",
       "\n",
       "    .dataframe thead th {\n",
       "        text-align: right;\n",
       "    }\n",
       "</style>\n",
       "<table border=\"1\" class=\"dataframe\">\n",
       "  <thead>\n",
       "    <tr style=\"text-align: right;\">\n",
       "      <th></th>\n",
       "      <th>Z</th>\n",
       "      <th>Element</th>\n",
       "      <th>A</th>\n",
       "      <th>Decay Mode</th>\n",
       "      <th>Radiation</th>\n",
       "      <th>Radiation Energy (keV)</th>\n",
       "      <th>Radiation Intensity (%)</th>\n",
       "      <th>Parent Energy Level (MeV)</th>\n",
       "    </tr>\n",
       "  </thead>\n",
       "  <tbody>\n",
       "    <tr>\n",
       "      <th>0</th>\n",
       "      <td>27</td>\n",
       "      <td>CO</td>\n",
       "      <td>60</td>\n",
       "      <td>IT</td>\n",
       "      <td>G</td>\n",
       "      <td>6.915</td>\n",
       "      <td>9.1+/-0.4</td>\n",
       "      <td>0.058603+/-0.000007</td>\n",
       "    </tr>\n",
       "    <tr>\n",
       "      <th>1</th>\n",
       "      <td>27</td>\n",
       "      <td>CO</td>\n",
       "      <td>60</td>\n",
       "      <td>IT</td>\n",
       "      <td>G</td>\n",
       "      <td>6.93</td>\n",
       "      <td>18.0+/-0.8</td>\n",
       "      <td>0.058603+/-0.000007</td>\n",
       "    </tr>\n",
       "    <tr>\n",
       "      <th>2</th>\n",
       "      <td>27</td>\n",
       "      <td>CO</td>\n",
       "      <td>60</td>\n",
       "      <td>B-</td>\n",
       "      <td>G</td>\n",
       "      <td>1173.2280+/-0.0030</td>\n",
       "      <td>99.850+/-0.030</td>\n",
       "      <td>0</td>\n",
       "    </tr>\n",
       "    <tr>\n",
       "      <th>3</th>\n",
       "      <td>27</td>\n",
       "      <td>CO</td>\n",
       "      <td>60</td>\n",
       "      <td>B-</td>\n",
       "      <td>G</td>\n",
       "      <td>1332.492+/-0.004</td>\n",
       "      <td>99.9826+/-0.0006</td>\n",
       "      <td>0</td>\n",
       "    </tr>\n",
       "  </tbody>\n",
       "</table>\n",
       "</div>"
      ],
      "text/plain": [
       "    Z Element   A Decay Mode Radiation Radiation Energy (keV)  \\\n",
       "0  27      CO  60         IT         G                  6.915   \n",
       "1  27      CO  60         IT         G                   6.93   \n",
       "2  27      CO  60         B-         G     1173.2280+/-0.0030   \n",
       "3  27      CO  60         B-         G       1332.492+/-0.004   \n",
       "\n",
       "  Radiation Intensity (%) Parent Energy Level (MeV)  \n",
       "0               9.1+/-0.4       0.058603+/-0.000007  \n",
       "1              18.0+/-0.8       0.058603+/-0.000007  \n",
       "2          99.850+/-0.030                         0  \n",
       "3        99.9826+/-0.0006                         0  "
      ]
     },
     "metadata": {},
     "output_type": "display_data"
    }
   ],
   "source": [
    "rad = bq.nndc.fetch_decay_radiation(nuc='Co-60', type='Gamma', i_range=(5, None))\n",
    "cols = ['Z', 'Element', 'A', 'Decay Mode', 'Radiation', 'Radiation Energy (keV)',\n",
    "        'Radiation Intensity (%)', 'Parent Energy Level (MeV)']\n",
    "display(rad[cols])"
   ]
  },
  {
   "cell_type": "markdown",
   "metadata": {},
   "source": [
    "## 1d. Isotope names and properties"
   ]
  },
  {
   "cell_type": "code",
   "execution_count": 6,
   "metadata": {},
   "outputs": [
    {
     "name": "stdout",
     "output_type": "stream",
     "text": [
      "Cs-137 Cs-137 Cs-137 Cs-137 Cs-137\n",
      "True\n"
     ]
    }
   ],
   "source": [
    "i1 = bq.Isotope('Cs-137')\n",
    "i2 = bq.Isotope('137CS')\n",
    "i3 = bq.Isotope('Cs', 137)\n",
    "i4 = bq.Isotope('Cesium-137')\n",
    "i5 = bq.Isotope('137CAESIUM')\n",
    "print(i1, i2, i3, i4, i5)\n",
    "print(i1 == i2 == i3 == i4 == i5)"
   ]
  },
  {
   "cell_type": "code",
   "execution_count": 7,
   "metadata": {
    "scrolled": false
   },
   "outputs": [
    {
     "name": "stdout",
     "output_type": "stream",
     "text": [
      "Tc-99m\n",
      "Technetium(Tc)-99m Z=43\n",
      "name: Technetium\n",
      "symbol: Tc\n",
      "Z: 43\n",
      "A: 99\n",
      "N: 56\n",
      "m: m\n",
      "half-life: 6.01 hr\n"
     ]
    }
   ],
   "source": [
    "iso = bq.Isotope('Tc-99m')\n",
    "print(iso)\n",
    "print('{:%n(%s)-%a%m Z=%z}'.format(iso))\n",
    "print('name:', iso.name)\n",
    "print('symbol:', iso.symbol)\n",
    "print('Z:', iso.Z)\n",
    "print('A:', iso.A)\n",
    "print('N:', iso.N)\n",
    "print('m:', iso.m)\n",
    "print('half-life: {:.2f} hr'.format(iso.half_life / 3600))"
   ]
  },
  {
   "cell_type": "markdown",
   "metadata": {},
   "source": [
    "## 1e. Cross section data for an element (Pb)\n",
    "\n",
    "NIST XCOM data can be queried in `becquerel`:"
   ]
  },
  {
   "cell_type": "code",
   "execution_count": 8,
   "metadata": {},
   "outputs": [
    {
     "data": {
      "image/png": "[encoded data removed]",
      "text/plain": [
       "<matplotlib.figure.Figure at 0x18187263c8>"
      ]
     },
     "metadata": {},
     "output_type": "display_data"
    }
   ],
   "source": [
    "# query XCOM by element symbol\n",
    "data = bq.xcom.fetch_xcom_data('Pb', e_range_kev=[10., 3000.])\n",
    "\n",
    "plt.figure()\n",
    "for field in ['total_w_coh', 'total_wo_coh', 'coherent', 'incoherent',\n",
    "              'photoelec', 'pair_nuc', 'pair_elec']:\n",
    "    plt.semilogy(data.energy, data[field], label=field)\n",
    "plt.xlim(0, 3000)\n",
    "plt.xlabel('Energy (keV)')\n",
    "plt.ylabel(r'Attenuation coefficient [cm$^2$/g]')\n",
    "plt.legend()\n",
    "plt.show()"
   ]
  },
  {
   "cell_type": "markdown",
   "metadata": {},
   "source": [
    "# 2. Longer examples"
   ]
  },
  {
   "cell_type": "markdown",
   "metadata": {},
   "source": [
    "## 2a. Background subtraction"
   ]
  },
  {
   "cell_type": "code",
   "execution_count": 9,
   "metadata": {},
   "outputs": [
    {
     "name": "stdout",
     "output_type": "stream",
     "text": [
      "SpeFile: Reading file ../tests/samples/1110C NAA cave background May 2017.spe\n",
      "Line 16403 unknown:  $PRESETS:\n",
      "Line 16404 unknown:  None\n",
      "Line 16405 unknown:  0\n",
      "Line 16406 unknown:  0\n",
      "Start time: 2017-04-26 11:05:11\n",
      "Stop time:  2017-05-01 12:43:34\n",
      "Real time:  437903.0\n",
      "Live time:  437817.0\n",
      "Total pottery countrate:    18.419+/- 0.034\n",
      "Total background countrate:  2.405+/- 0.002\n",
      "Total subtracted countrate: 16.014+/- 0.034\n"
     ]
    },
    {
     "data": {
      "image/png": "[encoded data removed]",
      "text/plain": [
       "<matplotlib.figure.Figure at 0x1822d42f98>"
      ]
     },
     "metadata": {},
     "output_type": "display_data"
    }
   ],
   "source": [
    "bkg = bq.Spectrum.from_file('../tests/samples/1110C NAA cave background May 2017.spe')\n",
    "print('Start time: {}'.format(bkg.start_time))\n",
    "print('Stop time:  {}'.format(bkg.stop_time))\n",
    "print('Real time:  {}'.format(bkg.realtime))\n",
    "print('Live time:  {}'.format(bkg.livetime))\n",
    "\n",
    "print('Total pottery countrate:    {:6.3f}'.format(np.sum(spec.cps)))\n",
    "print('Total background countrate: {:6.3f}'.format(np.sum(bkg.cps)))\n",
    "\n",
    "bkgsub = spec - bkg\n",
    "print('Total subtracted countrate: {:6.3f}'.format(np.sum(bkgsub.cps)))\n",
    "\n",
    "plt.figure()\n",
    "plt.semilogy(spec.energies_kev, spec.cps_vals, 'g-', lw=0.5, label='original')\n",
    "plt.semilogy(bkg.energies_kev, bkg.cps_vals, 'b-', lw=0.5, label='bkg')\n",
    "plt.semilogy(bkgsub.energies_kev, bkgsub.cps_vals, 'r-', lw=0.5, label='bkg sub')\n",
    "plt.legend()\n",
    "plt.xlim(0, spec.energies_kev.max())\n",
    "plt.xlabel('Energy (keV)')\n",
    "plt.ylabel('CPS')\n",
    "plt.show()"
   ]
  },
  {
   "cell_type": "markdown",
   "metadata": {},
   "source": [
    "Is there any Tl-208 in the background-subtracted spectrum?"
   ]
  },
  {
   "cell_type": "code",
   "execution_count": 10,
   "metadata": {},
   "outputs": [
    {
     "data": {
      "image/png": "[encoded data removed]",
      "text/plain": [
       "<matplotlib.figure.Figure at 0x18175d1550>"
      ]
     },
     "metadata": {},
     "output_type": "display_data"
    }
   ],
   "source": [
    "plt.figure()\n",
    "plt.plot(spec.energies_kev, spec.cps_vals, 'g-', lw=0.5, label='original')\n",
    "plt.plot(bkg.energies_kev, bkg.cps_vals, 'b-', lw=0.5, label='bkg')\n",
    "plt.plot(bkgsub.energies_kev, bkgsub.cps_vals, 'r-', lw=0.5, label='bkg sub')\n",
    "plt.legend()\n",
    "plt.xlim(2600, 2630)\n",
    "plt.ylim(0, 0.001)\n",
    "plt.xlabel('Energy (keV)')\n",
    "plt.ylabel('CPS')\n",
    "plt.show()"
   ]
  },
  {
   "cell_type": "markdown",
   "metadata": {},
   "source": [
    "## 2b. Identifying unknown spectral lines\n",
    "\n",
    "From the previous spectrum, we see a line around 1408 keV that is not in the background."
   ]
  },
  {
   "cell_type": "code",
   "execution_count": 11,
   "metadata": {},
   "outputs": [
    {
     "data": {
      "image/png": "[encoded data removed]",
      "text/plain": [
       "<matplotlib.figure.Figure at 0x1821efe588>"
      ]
     },
     "metadata": {},
     "output_type": "display_data"
    }
   ],
   "source": [
    "plt.figure()\n",
    "plt.plot(bkgsub.energies_kev, bkgsub.cps_vals, 'r-')\n",
    "plt.xlim(1388, 1428)\n",
    "plt.ylim(0, 0.02)\n",
    "plt.xlabel('Energy (keV)')\n",
    "plt.ylabel('CPS')\n",
    "plt.show()"
   ]
  },
  {
   "cell_type": "markdown",
   "metadata": {},
   "source": [
    "Which isotope in the sample could be producing this line?"
   ]
  },
  {
   "cell_type": "code",
   "execution_count": 12,
   "metadata": {},
   "outputs": [
    {
     "data": {
      "text/html": [
       "<div>\n",
       "<style scoped>\n",
       "    .dataframe tbody tr th:only-of-type {\n",
       "        vertical-align: middle;\n",
       "    }\n",
       "\n",
       "    .dataframe tbody tr th {\n",
       "        vertical-align: top;\n",
       "    }\n",
       "\n",
       "    .dataframe thead th {\n",
       "        text-align: right;\n",
       "    }\n",
       "</style>\n",
       "<table border=\"1\" class=\"dataframe\">\n",
       "  <thead>\n",
       "    <tr style=\"text-align: right;\">\n",
       "      <th></th>\n",
       "      <th>Z</th>\n",
       "      <th>Element</th>\n",
       "      <th>A</th>\n",
       "      <th>Decay Mode</th>\n",
       "      <th>Radiation</th>\n",
       "      <th>Radiation Energy (keV)</th>\n",
       "      <th>Radiation Intensity (%)</th>\n",
       "      <th>Parent Energy Level (MeV)</th>\n",
       "    </tr>\n",
       "  </thead>\n",
       "  <tbody>\n",
       "    <tr>\n",
       "      <th>0</th>\n",
       "      <td>27</td>\n",
       "      <td>CO</td>\n",
       "      <td>55</td>\n",
       "      <td>EC</td>\n",
       "      <td>G</td>\n",
       "      <td>1408.50+/-0.30</td>\n",
       "      <td>16.9+/-0.8</td>\n",
       "      <td>0.0</td>\n",
       "    </tr>\n",
       "    <tr>\n",
       "      <th>1</th>\n",
       "      <td>63</td>\n",
       "      <td>EU</td>\n",
       "      <td>152</td>\n",
       "      <td>EC</td>\n",
       "      <td>G</td>\n",
       "      <td>1408.0130+/-0.0030</td>\n",
       "      <td>20.87+/-0.09</td>\n",
       "      <td>0.0</td>\n",
       "    </tr>\n",
       "  </tbody>\n",
       "</table>\n",
       "</div>"
      ],
      "text/plain": [
       "    Z Element    A Decay Mode Radiation Radiation Energy (keV)  \\\n",
       "0  27      CO   55         EC         G         1408.50+/-0.30   \n",
       "1  63      EU  152         EC         G     1408.0130+/-0.0030   \n",
       "\n",
       "  Radiation Intensity (%)  Parent Energy Level (MeV)  \n",
       "0              16.9+/-0.8                        0.0  \n",
       "1            20.87+/-0.09                        0.0  "
      ]
     },
     "metadata": {},
     "output_type": "display_data"
    }
   ],
   "source": [
    "rad = bq.nndc.fetch_decay_radiation(\n",
    "    type='Gamma',\n",
    "    e_range=[1405, 1410],\n",
    "    i_range=[5, None],  # at least 5% branching\n",
    "    t_range=[3600, None],  # half-life >= 1 hour\n",
    ")\n",
    "display(rad[cols])"
   ]
  },
  {
   "cell_type": "markdown",
   "metadata": {},
   "source": [
    "Let's first consider Co-55. Are there other lines from that isotope present in the spectrum?"
   ]
  },
  {
   "cell_type": "code",
   "execution_count": 13,
   "metadata": {},
   "outputs": [
    {
     "data": {
      "text/html": [
       "<div>\n",
       "<style scoped>\n",
       "    .dataframe tbody tr th:only-of-type {\n",
       "        vertical-align: middle;\n",
       "    }\n",
       "\n",
       "    .dataframe tbody tr th {\n",
       "        vertical-align: top;\n",
       "    }\n",
       "\n",
       "    .dataframe thead th {\n",
       "        text-align: right;\n",
       "    }\n",
       "</style>\n",
       "<table border=\"1\" class=\"dataframe\">\n",
       "  <thead>\n",
       "    <tr style=\"text-align: right;\">\n",
       "      <th></th>\n",
       "      <th>Z</th>\n",
       "      <th>Element</th>\n",
       "      <th>A</th>\n",
       "      <th>Decay Mode</th>\n",
       "      <th>Radiation</th>\n",
       "      <th>Radiation Energy (keV)</th>\n",
       "      <th>Radiation Intensity (%)</th>\n",
       "      <th>Parent Energy Level (MeV)</th>\n",
       "    </tr>\n",
       "  </thead>\n",
       "  <tbody>\n",
       "    <tr>\n",
       "      <th>0</th>\n",
       "      <td>27</td>\n",
       "      <td>CO</td>\n",
       "      <td>55</td>\n",
       "      <td>EC</td>\n",
       "      <td>G</td>\n",
       "      <td>411.50+/-0.30</td>\n",
       "      <td>1.07+/-0.08</td>\n",
       "      <td>0.0</td>\n",
       "    </tr>\n",
       "    <tr>\n",
       "      <th>1</th>\n",
       "      <td>27</td>\n",
       "      <td>CO</td>\n",
       "      <td>55</td>\n",
       "      <td>EC</td>\n",
       "      <td>G</td>\n",
       "      <td>477.20+/-0.20</td>\n",
       "      <td>20.2+/-1.7</td>\n",
       "      <td>0.0</td>\n",
       "    </tr>\n",
       "    <tr>\n",
       "      <th>2</th>\n",
       "      <td>27</td>\n",
       "      <td>CO</td>\n",
       "      <td>55</td>\n",
       "      <td>EC</td>\n",
       "      <td>G</td>\n",
       "      <td>511</td>\n",
       "      <td>152+/-7</td>\n",
       "      <td>0.0</td>\n",
       "    </tr>\n",
       "    <tr>\n",
       "      <th>3</th>\n",
       "      <td>27</td>\n",
       "      <td>CO</td>\n",
       "      <td>55</td>\n",
       "      <td>EC</td>\n",
       "      <td>G</td>\n",
       "      <td>803.70+/-0.20</td>\n",
       "      <td>1.87+/-0.15</td>\n",
       "      <td>0.0</td>\n",
       "    </tr>\n",
       "    <tr>\n",
       "      <th>4</th>\n",
       "      <td>27</td>\n",
       "      <td>CO</td>\n",
       "      <td>55</td>\n",
       "      <td>EC</td>\n",
       "      <td>G</td>\n",
       "      <td>931.10+/-0.30</td>\n",
       "      <td>75</td>\n",
       "      <td>0.0</td>\n",
       "    </tr>\n",
       "    <tr>\n",
       "      <th>5</th>\n",
       "      <td>27</td>\n",
       "      <td>CO</td>\n",
       "      <td>55</td>\n",
       "      <td>EC</td>\n",
       "      <td>G</td>\n",
       "      <td>1316.60+/-0.30</td>\n",
       "      <td>7.10+/-0.30</td>\n",
       "      <td>0.0</td>\n",
       "    </tr>\n",
       "    <tr>\n",
       "      <th>6</th>\n",
       "      <td>27</td>\n",
       "      <td>CO</td>\n",
       "      <td>55</td>\n",
       "      <td>EC</td>\n",
       "      <td>G</td>\n",
       "      <td>1370.00+/-0.30</td>\n",
       "      <td>2.90+/-0.30</td>\n",
       "      <td>0.0</td>\n",
       "    </tr>\n",
       "    <tr>\n",
       "      <th>7</th>\n",
       "      <td>27</td>\n",
       "      <td>CO</td>\n",
       "      <td>55</td>\n",
       "      <td>EC</td>\n",
       "      <td>G</td>\n",
       "      <td>1408.50+/-0.30</td>\n",
       "      <td>16.9+/-0.8</td>\n",
       "      <td>0.0</td>\n",
       "    </tr>\n",
       "  </tbody>\n",
       "</table>\n",
       "</div>"
      ],
      "text/plain": [
       "    Z Element   A Decay Mode Radiation Radiation Energy (keV)  \\\n",
       "0  27      CO  55         EC         G          411.50+/-0.30   \n",
       "1  27      CO  55         EC         G          477.20+/-0.20   \n",
       "2  27      CO  55         EC         G                    511   \n",
       "3  27      CO  55         EC         G          803.70+/-0.20   \n",
       "4  27      CO  55         EC         G          931.10+/-0.30   \n",
       "5  27      CO  55         EC         G         1316.60+/-0.30   \n",
       "6  27      CO  55         EC         G         1370.00+/-0.30   \n",
       "7  27      CO  55         EC         G         1408.50+/-0.30   \n",
       "\n",
       "  Radiation Intensity (%)  Parent Energy Level (MeV)  \n",
       "0             1.07+/-0.08                        0.0  \n",
       "1              20.2+/-1.7                        0.0  \n",
       "2                 152+/-7                        0.0  \n",
       "3             1.87+/-0.15                        0.0  \n",
       "4                      75                        0.0  \n",
       "5             7.10+/-0.30                        0.0  \n",
       "6             2.90+/-0.30                        0.0  \n",
       "7              16.9+/-0.8                        0.0  "
      ]
     },
     "metadata": {},
     "output_type": "display_data"
    }
   ],
   "source": [
    "rad = bq.nndc.fetch_decay_radiation(\n",
    "    nuc='Co-55',\n",
    "    type='Gamma',\n",
    "    i_range=(1, None),  # at least 1% branching\n",
    "    e_range=(100, None),  # energy >= 100 keV\n",
    ")\n",
    "display(rad[cols])"
   ]
  },
  {
   "cell_type": "code",
   "execution_count": 14,
   "metadata": {
    "scrolled": false
   },
   "outputs": [],
   "source": [
    "energies = rad['Radiation Energy (keV)'][rad['Radiation Intensity (%)'] > 5]\n",
    "for en in energies:\n",
    "    try:\n",
    "        en = en.nominal_value\n",
    "    except:\n",
    "        pass\n",
    "    plt.figure()\n",
    "    plt.title('Co-55 line candidate: {:.1f} keV'.format(en))\n",
    "    plt.plot(bkgsub.energies_kev, bkgsub.cps_vals, 'r-')\n",
    "    plt.xlim(en - 10, en + 10)\n",
    "    plt.ylim(0, 0.02)\n",
    "    plt.xlabel('Energy (keV)')\n",
    "    plt.ylabel('CPS')"
   ]
  },
  {
   "cell_type": "markdown",
   "metadata": {},
   "source": [
    "Those lines are not present. Let's examine Eu-152:"
   ]
  },
  {
   "cell_type": "code",
   "execution_count": 15,
   "metadata": {},
   "outputs": [
    {
     "data": {
      "text/html": [
       "<div>\n",
       "<style scoped>\n",
       "    .dataframe tbody tr th:only-of-type {\n",
       "        vertical-align: middle;\n",
       "    }\n",
       "\n",
       "    .dataframe tbody tr th {\n",
       "        vertical-align: top;\n",
       "    }\n",
       "\n",
       "    .dataframe thead th {\n",
       "        text-align: right;\n",
       "    }\n",
       "</style>\n",
       "<table border=\"1\" class=\"dataframe\">\n",
       "  <thead>\n",
       "    <tr style=\"text-align: right;\">\n",
       "      <th></th>\n",
       "      <th>Z</th>\n",
       "      <th>Element</th>\n",
       "      <th>A</th>\n",
       "      <th>Decay Mode</th>\n",
       "      <th>Radiation</th>\n",
       "      <th>Radiation Energy (keV)</th>\n",
       "      <th>Radiation Intensity (%)</th>\n",
       "      <th>Parent Energy Level (MeV)</th>\n",
       "    </tr>\n",
       "  </thead>\n",
       "  <tbody>\n",
       "    <tr>\n",
       "      <th>4</th>\n",
       "      <td>63</td>\n",
       "      <td>EU</td>\n",
       "      <td>152</td>\n",
       "      <td>EC</td>\n",
       "      <td>G</td>\n",
       "      <td>121.78170+/-0.00030</td>\n",
       "      <td>28.53+/-0.16</td>\n",
       "      <td>0.0</td>\n",
       "    </tr>\n",
       "    <tr>\n",
       "      <th>5</th>\n",
       "      <td>63</td>\n",
       "      <td>EU</td>\n",
       "      <td>152</td>\n",
       "      <td>EC</td>\n",
       "      <td>G</td>\n",
       "      <td>244.6974+/-0.0008</td>\n",
       "      <td>7.55+/-0.04</td>\n",
       "      <td>0.0</td>\n",
       "    </tr>\n",
       "    <tr>\n",
       "      <th>6</th>\n",
       "      <td>63</td>\n",
       "      <td>EU</td>\n",
       "      <td>152</td>\n",
       "      <td>B-</td>\n",
       "      <td>G</td>\n",
       "      <td>344.2785+/-0.0012</td>\n",
       "      <td>26.59+/-0.20</td>\n",
       "      <td>0.0</td>\n",
       "    </tr>\n",
       "    <tr>\n",
       "      <th>7</th>\n",
       "      <td>63</td>\n",
       "      <td>EU</td>\n",
       "      <td>152</td>\n",
       "      <td>B-</td>\n",
       "      <td>G</td>\n",
       "      <td>411.1165+/-0.0012</td>\n",
       "      <td>2.237+/-0.013</td>\n",
       "      <td>0.0</td>\n",
       "    </tr>\n",
       "    <tr>\n",
       "      <th>8</th>\n",
       "      <td>63</td>\n",
       "      <td>EU</td>\n",
       "      <td>152</td>\n",
       "      <td>EC</td>\n",
       "      <td>G</td>\n",
       "      <td>443.9606+/-0.0016</td>\n",
       "      <td>2.827+/-0.014</td>\n",
       "      <td>0.0</td>\n",
       "    </tr>\n",
       "    <tr>\n",
       "      <th>9</th>\n",
       "      <td>63</td>\n",
       "      <td>EU</td>\n",
       "      <td>152</td>\n",
       "      <td>B-</td>\n",
       "      <td>G</td>\n",
       "      <td>778.9045+/-0.0024</td>\n",
       "      <td>12.93+/-0.08</td>\n",
       "      <td>0.0</td>\n",
       "    </tr>\n",
       "    <tr>\n",
       "      <th>10</th>\n",
       "      <td>63</td>\n",
       "      <td>EU</td>\n",
       "      <td>152</td>\n",
       "      <td>EC</td>\n",
       "      <td>G</td>\n",
       "      <td>867.3800+/-0.0030</td>\n",
       "      <td>4.230+/-0.030</td>\n",
       "      <td>0.0</td>\n",
       "    </tr>\n",
       "    <tr>\n",
       "      <th>11</th>\n",
       "      <td>63</td>\n",
       "      <td>EU</td>\n",
       "      <td>152</td>\n",
       "      <td>EC</td>\n",
       "      <td>G</td>\n",
       "      <td>964.057+/-0.005</td>\n",
       "      <td>14.51+/-0.07</td>\n",
       "      <td>0.0</td>\n",
       "    </tr>\n",
       "    <tr>\n",
       "      <th>12</th>\n",
       "      <td>63</td>\n",
       "      <td>EU</td>\n",
       "      <td>152</td>\n",
       "      <td>EC</td>\n",
       "      <td>G</td>\n",
       "      <td>1085.837+/-0.010</td>\n",
       "      <td>10.11+/-0.05</td>\n",
       "      <td>0.0</td>\n",
       "    </tr>\n",
       "    <tr>\n",
       "      <th>13</th>\n",
       "      <td>63</td>\n",
       "      <td>EU</td>\n",
       "      <td>152</td>\n",
       "      <td>B-</td>\n",
       "      <td>G</td>\n",
       "      <td>1089.737+/-0.005</td>\n",
       "      <td>1.734+/-0.011</td>\n",
       "      <td>0.0</td>\n",
       "    </tr>\n",
       "    <tr>\n",
       "      <th>14</th>\n",
       "      <td>63</td>\n",
       "      <td>EU</td>\n",
       "      <td>152</td>\n",
       "      <td>EC</td>\n",
       "      <td>G</td>\n",
       "      <td>1112.0760+/-0.0030</td>\n",
       "      <td>13.67+/-0.08</td>\n",
       "      <td>0.0</td>\n",
       "    </tr>\n",
       "    <tr>\n",
       "      <th>15</th>\n",
       "      <td>63</td>\n",
       "      <td>EU</td>\n",
       "      <td>152</td>\n",
       "      <td>EC</td>\n",
       "      <td>G</td>\n",
       "      <td>1212.948+/-0.011</td>\n",
       "      <td>1.415+/-0.008</td>\n",
       "      <td>0.0</td>\n",
       "    </tr>\n",
       "    <tr>\n",
       "      <th>16</th>\n",
       "      <td>63</td>\n",
       "      <td>EU</td>\n",
       "      <td>152</td>\n",
       "      <td>B-</td>\n",
       "      <td>G</td>\n",
       "      <td>1299.142+/-0.008</td>\n",
       "      <td>1.633+/-0.011</td>\n",
       "      <td>0.0</td>\n",
       "    </tr>\n",
       "    <tr>\n",
       "      <th>17</th>\n",
       "      <td>63</td>\n",
       "      <td>EU</td>\n",
       "      <td>152</td>\n",
       "      <td>EC</td>\n",
       "      <td>G</td>\n",
       "      <td>1408.0130+/-0.0030</td>\n",
       "      <td>20.87+/-0.09</td>\n",
       "      <td>0.0</td>\n",
       "    </tr>\n",
       "  </tbody>\n",
       "</table>\n",
       "</div>"
      ],
      "text/plain": [
       "     Z Element    A Decay Mode Radiation Radiation Energy (keV)  \\\n",
       "4   63      EU  152         EC         G    121.78170+/-0.00030   \n",
       "5   63      EU  152         EC         G      244.6974+/-0.0008   \n",
       "6   63      EU  152         B-         G      344.2785+/-0.0012   \n",
       "7   63      EU  152         B-         G      411.1165+/-0.0012   \n",
       "8   63      EU  152         EC         G      443.9606+/-0.0016   \n",
       "9   63      EU  152         B-         G      778.9045+/-0.0024   \n",
       "10  63      EU  152         EC         G      867.3800+/-0.0030   \n",
       "11  63      EU  152         EC         G        964.057+/-0.005   \n",
       "12  63      EU  152         EC         G       1085.837+/-0.010   \n",
       "13  63      EU  152         B-         G       1089.737+/-0.005   \n",
       "14  63      EU  152         EC         G     1112.0760+/-0.0030   \n",
       "15  63      EU  152         EC         G       1212.948+/-0.011   \n",
       "16  63      EU  152         B-         G       1299.142+/-0.008   \n",
       "17  63      EU  152         EC         G     1408.0130+/-0.0030   \n",
       "\n",
       "   Radiation Intensity (%)  Parent Energy Level (MeV)  \n",
       "4             28.53+/-0.16                        0.0  \n",
       "5              7.55+/-0.04                        0.0  \n",
       "6             26.59+/-0.20                        0.0  \n",
       "7            2.237+/-0.013                        0.0  \n",
       "8            2.827+/-0.014                        0.0  \n",
       "9             12.93+/-0.08                        0.0  \n",
       "10           4.230+/-0.030                        0.0  \n",
       "11            14.51+/-0.07                        0.0  \n",
       "12            10.11+/-0.05                        0.0  \n",
       "13           1.734+/-0.011                        0.0  \n",
       "14            13.67+/-0.08                        0.0  \n",
       "15           1.415+/-0.008                        0.0  \n",
       "16           1.633+/-0.011                        0.0  \n",
       "17            20.87+/-0.09                        0.0  "
      ]
     },
     "metadata": {},
     "output_type": "display_data"
    }
   ],
   "source": [
    "rad = bq.nndc.fetch_decay_radiation(\n",
    "    nuc='Eu-152',\n",
    "    type='Gamma',\n",
    "    i_range=(1, None),\n",
    "    e_range=(100, None),\n",
    ")\n",
    "rad = rad[rad['Parent Energy Level (MeV)'] == 0]\n",
    "display(rad[cols])"
   ]
  },
  {
   "cell_type": "code",
   "execution_count": 16,
   "metadata": {
    "scrolled": false
   },
   "outputs": [],
   "source": [
    "energies = rad['Radiation Energy (keV)'][rad['Radiation Intensity (%)'] > 5]\n",
    "for en in energies:\n",
    "    try:\n",
    "        en = en.nominal_value\n",
    "    except:\n",
    "        pass\n",
    "    plt.figure()\n",
    "    plt.title('Eu-152 line candidate: {:.1f} keV'.format(en))\n",
    "    plt.plot(bkgsub.energies_kev, bkgsub.cps_vals, 'r-')\n",
    "    plt.xlim(en - 10, en + 10)\n",
    "    plt.ylim(0)\n",
    "    plt.xlabel('Energy (keV)')\n",
    "    plt.ylabel('CPS')"
   ]
  },
  {
   "cell_type": "markdown",
   "metadata": {},
   "source": [
    "Eu-152 looks like a good match."
   ]
  },
  {
   "cell_type": "markdown",
   "metadata": {},
   "source": [
    "## 2c. More isotope properties\n",
    "\n",
    "Isotope properties such as half-life, stability, and natural abundance are available:"
   ]
  },
  {
   "cell_type": "code",
   "execution_count": 17,
   "metadata": {},
   "outputs": [
    {
     "name": "stdout",
     "output_type": "stream",
     "text": [
      "\n",
      "Isotope: K-37\n",
      "    Spin-parity: 3/2+\n",
      "    Stable?      False\n",
      "    Half-life:   3.885e-08 years\n",
      "    Decay modes: (['EC'], [100.0])\n",
      "\n",
      "Isotope: K-38\n",
      "    Spin-parity: 3+\n",
      "    Stable?      False\n",
      "    Half-life:   1.452e-05 years\n",
      "    Decay modes: (['EC'], [100.0])\n",
      "\n",
      "Isotope: K-39\n",
      "    Spin-parity: 3/2+\n",
      "    Abundance:   93.26+/-0.00%\n",
      "    Stable?      True\n",
      "\n",
      "Isotope: K-40\n",
      "    Spin-parity: 4-\n",
      "    Abundance:   0.01+/-0.00%\n",
      "    Stable?      False\n",
      "    Half-life:   1.248e+09 years\n",
      "    Decay modes: (['B-', 'EC'], [89.28, 10.72])\n",
      "\n",
      "Isotope: K-41\n",
      "    Spin-parity: 3/2+\n",
      "    Abundance:   6.73+/-0.00%\n",
      "    Stable?      True\n",
      "\n",
      "Isotope: K-42\n",
      "    Spin-parity: 2-\n",
      "    Stable?      False\n",
      "    Half-life:   1.409e-03 years\n",
      "    Decay modes: (['B-'], [100.0])\n",
      "\n",
      "Isotope: K-43\n",
      "    Spin-parity: 3/2+\n",
      "    Stable?      False\n",
      "    Half-life:   2.544e-03 years\n",
      "    Decay modes: (['B-'], [100.0])\n",
      "\n",
      "Isotope: K-44\n",
      "    Spin-parity: 2-\n",
      "    Stable?      False\n",
      "    Half-life:   4.208e-05 years\n",
      "    Decay modes: (['B-'], [100.0])\n"
     ]
    }
   ],
   "source": [
    "for a in range(37, 45):\n",
    "    iso = bq.Isotope('Potassium', a)\n",
    "    print('')\n",
    "    print('Isotope: {}'.format(iso))\n",
    "    print('    Spin-parity: {}'.format(iso.j_pi))\n",
    "    if iso.abundance is not None:\n",
    "        print('    Abundance:   {:.2f}%'.format(iso.abundance))\n",
    "    print('    Stable?      {}'.format(iso.is_stable))\n",
    "    if not iso.is_stable:\n",
    "        print('    Half-life:   {:.3e} years'.format(iso.half_life / 365.25 / 24 / 3600))\n",
    "        print('    Decay modes: {}'.format(iso.decay_modes))"
   ]
  },
  {
   "cell_type": "code",
   "execution_count": 18,
   "metadata": {},
   "outputs": [
    {
     "data": {
      "text/html": [
       "<div>\n",
       "<style scoped>\n",
       "    .dataframe tbody tr th:only-of-type {\n",
       "        vertical-align: middle;\n",
       "    }\n",
       "\n",
       "    .dataframe tbody tr th {\n",
       "        vertical-align: top;\n",
       "    }\n",
       "\n",
       "    .dataframe thead th {\n",
       "        text-align: right;\n",
       "    }\n",
       "</style>\n",
       "<table border=\"1\" class=\"dataframe\">\n",
       "  <thead>\n",
       "    <tr style=\"text-align: right;\">\n",
       "      <th></th>\n",
       "      <th>Z</th>\n",
       "      <th>Element</th>\n",
       "      <th>A</th>\n",
       "      <th>m</th>\n",
       "      <th>M</th>\n",
       "      <th>N</th>\n",
       "      <th>JPi</th>\n",
       "      <th>Energy Level (MeV)</th>\n",
       "      <th>Decay Mode</th>\n",
       "      <th>Branching (%)</th>\n",
       "      <th>Abundance (%)</th>\n",
       "      <th>Mass Excess (MeV)</th>\n",
       "      <th>T1/2 (s)</th>\n",
       "      <th>T1/2 (txt)</th>\n",
       "    </tr>\n",
       "  </thead>\n",
       "  <tbody>\n",
       "    <tr>\n",
       "      <th>0</th>\n",
       "      <td>19</td>\n",
       "      <td>K</td>\n",
       "      <td>37</td>\n",
       "      <td></td>\n",
       "      <td>0</td>\n",
       "      <td>18</td>\n",
       "      <td>3/2+</td>\n",
       "      <td>0.0</td>\n",
       "      <td>EC</td>\n",
       "      <td>100.00</td>\n",
       "      <td>None</td>\n",
       "      <td>-24.80020+/-0.00009</td>\n",
       "      <td>1.226000e+00</td>\n",
       "      <td>1.226 S 0.007</td>\n",
       "    </tr>\n",
       "    <tr>\n",
       "      <th>1</th>\n",
       "      <td>19</td>\n",
       "      <td>K</td>\n",
       "      <td>38</td>\n",
       "      <td></td>\n",
       "      <td>0</td>\n",
       "      <td>19</td>\n",
       "      <td>3+</td>\n",
       "      <td>0.0</td>\n",
       "      <td>EC</td>\n",
       "      <td>100.00</td>\n",
       "      <td>None</td>\n",
       "      <td>-28.80075+/-0.00020</td>\n",
       "      <td>4.581600e+02</td>\n",
       "      <td>7.636 M 0.018</td>\n",
       "    </tr>\n",
       "    <tr>\n",
       "      <th>2</th>\n",
       "      <td>19</td>\n",
       "      <td>K</td>\n",
       "      <td>39</td>\n",
       "      <td></td>\n",
       "      <td>0</td>\n",
       "      <td>20</td>\n",
       "      <td>3/2+</td>\n",
       "      <td>0.0</td>\n",
       "      <td></td>\n",
       "      <td>NaN</td>\n",
       "      <td>93.258+/-0.004</td>\n",
       "      <td>-33.807190+/-0.000005</td>\n",
       "      <td>inf</td>\n",
       "      <td>STABLE</td>\n",
       "    </tr>\n",
       "    <tr>\n",
       "      <th>3</th>\n",
       "      <td>19</td>\n",
       "      <td>K</td>\n",
       "      <td>40</td>\n",
       "      <td></td>\n",
       "      <td>0</td>\n",
       "      <td>21</td>\n",
       "      <td>4-</td>\n",
       "      <td>0.0</td>\n",
       "      <td>B-</td>\n",
       "      <td>89.28</td>\n",
       "      <td>0.01170+/-0.00010</td>\n",
       "      <td>-33.53549+/-0.00006</td>\n",
       "      <td>3.938000e+16</td>\n",
       "      <td>1.248E+9 Y 0.003E+9</td>\n",
       "    </tr>\n",
       "    <tr>\n",
       "      <th>4</th>\n",
       "      <td>19</td>\n",
       "      <td>K</td>\n",
       "      <td>40</td>\n",
       "      <td></td>\n",
       "      <td>0</td>\n",
       "      <td>21</td>\n",
       "      <td>4-</td>\n",
       "      <td>0.0</td>\n",
       "      <td>EC</td>\n",
       "      <td>10.72</td>\n",
       "      <td>0.01170+/-0.00010</td>\n",
       "      <td>-33.53549+/-0.00006</td>\n",
       "      <td>3.938000e+16</td>\n",
       "      <td>1.248E+9 Y 0.003E+9</td>\n",
       "    </tr>\n",
       "    <tr>\n",
       "      <th>5</th>\n",
       "      <td>19</td>\n",
       "      <td>K</td>\n",
       "      <td>41</td>\n",
       "      <td></td>\n",
       "      <td>0</td>\n",
       "      <td>22</td>\n",
       "      <td>3/2+</td>\n",
       "      <td>0.0</td>\n",
       "      <td></td>\n",
       "      <td>NaN</td>\n",
       "      <td>6.730+/-0.004</td>\n",
       "      <td>-35.559543+/-0.000004</td>\n",
       "      <td>inf</td>\n",
       "      <td>STABLE</td>\n",
       "    </tr>\n",
       "    <tr>\n",
       "      <th>6</th>\n",
       "      <td>19</td>\n",
       "      <td>K</td>\n",
       "      <td>42</td>\n",
       "      <td></td>\n",
       "      <td>0</td>\n",
       "      <td>23</td>\n",
       "      <td>2-</td>\n",
       "      <td>0.0</td>\n",
       "      <td>B-</td>\n",
       "      <td>100.00</td>\n",
       "      <td>None</td>\n",
       "      <td>-35.02203+/-0.00011</td>\n",
       "      <td>4.447800e+04</td>\n",
       "      <td>12.355 H 0.007</td>\n",
       "    </tr>\n",
       "    <tr>\n",
       "      <th>7</th>\n",
       "      <td>19</td>\n",
       "      <td>K</td>\n",
       "      <td>43</td>\n",
       "      <td></td>\n",
       "      <td>0</td>\n",
       "      <td>24</td>\n",
       "      <td>3/2+</td>\n",
       "      <td>0.0</td>\n",
       "      <td>B-</td>\n",
       "      <td>100.00</td>\n",
       "      <td>None</td>\n",
       "      <td>-36.5754+/-0.0004</td>\n",
       "      <td>8.028000e+04</td>\n",
       "      <td>22.3 H 0.1</td>\n",
       "    </tr>\n",
       "    <tr>\n",
       "      <th>8</th>\n",
       "      <td>19</td>\n",
       "      <td>K</td>\n",
       "      <td>44</td>\n",
       "      <td></td>\n",
       "      <td>0</td>\n",
       "      <td>25</td>\n",
       "      <td>2-</td>\n",
       "      <td>0.0</td>\n",
       "      <td>B-</td>\n",
       "      <td>100.00</td>\n",
       "      <td>None</td>\n",
       "      <td>-35.7815+/-0.0004</td>\n",
       "      <td>1.327800e+03</td>\n",
       "      <td>22.13 M 0.19</td>\n",
       "    </tr>\n",
       "  </tbody>\n",
       "</table>\n",
       "</div>"
      ],
      "text/plain": [
       "    Z Element   A m  M   N   JPi  Energy Level (MeV) Decay Mode  \\\n",
       "0  19       K  37    0  18  3/2+                 0.0         EC   \n",
       "1  19       K  38    0  19    3+                 0.0         EC   \n",
       "2  19       K  39    0  20  3/2+                 0.0              \n",
       "3  19       K  40    0  21    4-                 0.0         B-   \n",
       "4  19       K  40    0  21    4-                 0.0         EC   \n",
       "5  19       K  41    0  22  3/2+                 0.0              \n",
       "6  19       K  42    0  23    2-                 0.0         B-   \n",
       "7  19       K  43    0  24  3/2+                 0.0         B-   \n",
       "8  19       K  44    0  25    2-                 0.0         B-   \n",
       "\n",
       "   Branching (%)      Abundance (%)      Mass Excess (MeV)      T1/2 (s)  \\\n",
       "0         100.00               None    -24.80020+/-0.00009  1.226000e+00   \n",
       "1         100.00               None    -28.80075+/-0.00020  4.581600e+02   \n",
       "2            NaN     93.258+/-0.004  -33.807190+/-0.000005           inf   \n",
       "3          89.28  0.01170+/-0.00010    -33.53549+/-0.00006  3.938000e+16   \n",
       "4          10.72  0.01170+/-0.00010    -33.53549+/-0.00006  3.938000e+16   \n",
       "5            NaN      6.730+/-0.004  -35.559543+/-0.000004           inf   \n",
       "6         100.00               None    -35.02203+/-0.00011  4.447800e+04   \n",
       "7         100.00               None      -36.5754+/-0.0004  8.028000e+04   \n",
       "8         100.00               None      -35.7815+/-0.0004  1.327800e+03   \n",
       "\n",
       "            T1/2 (txt)  \n",
       "0        1.226 S 0.007  \n",
       "1        7.636 M 0.018  \n",
       "2               STABLE  \n",
       "3  1.248E+9 Y 0.003E+9  \n",
       "4  1.248E+9 Y 0.003E+9  \n",
       "5               STABLE  \n",
       "6       12.355 H 0.007  \n",
       "7           22.3 H 0.1  \n",
       "8         22.13 M 0.19  "
      ]
     },
     "metadata": {},
     "output_type": "display_data"
    }
   ],
   "source": [
    "# an equivalent way to do access these isotope data by using `fetch_wallet_card`\n",
    "data = bq.nndc.fetch_wallet_card(\n",
    "    z_range=(19, 19),\n",
    "    a_range=(37, 44),\n",
    "    elevel_range=(0, 0),  # ground states only\n",
    ")\n",
    "display(data)"
   ]
  },
  {
   "cell_type": "markdown",
   "metadata": {},
   "source": [
    "## 2d. Mean free path of photons in lead\n",
    "\n",
    "NIST XCOM data can be queried in `becquerel`, as well as standard properties of elements and materials. Here we query data for lead and use it to calculate the mean free path:"
   ]
  },
  {
   "cell_type": "code",
   "execution_count": 19,
   "metadata": {
    "scrolled": true
   },
   "outputs": [
    {
     "data": {
      "text/html": [
       "<div>\n",
       "<style scoped>\n",
       "    .dataframe tbody tr th:only-of-type {\n",
       "        vertical-align: middle;\n",
       "    }\n",
       "\n",
       "    .dataframe tbody tr th {\n",
       "        vertical-align: top;\n",
       "    }\n",
       "\n",
       "    .dataframe thead th {\n",
       "        text-align: right;\n",
       "    }\n",
       "</style>\n",
       "<table border=\"1\" class=\"dataframe\">\n",
       "  <thead>\n",
       "    <tr style=\"text-align: right;\">\n",
       "      <th></th>\n",
       "      <th>Z</th>\n",
       "      <th>Symbol</th>\n",
       "      <th>Element</th>\n",
       "      <th>Z_over_A</th>\n",
       "      <th>I_eV</th>\n",
       "      <th>Density</th>\n",
       "    </tr>\n",
       "  </thead>\n",
       "  <tbody>\n",
       "    <tr>\n",
       "      <th>0</th>\n",
       "      <td>1</td>\n",
       "      <td>H</td>\n",
       "      <td>Hydrogen</td>\n",
       "      <td>0.99212</td>\n",
       "      <td>19.2</td>\n",
       "      <td>0.000084</td>\n",
       "    </tr>\n",
       "    <tr>\n",
       "      <th>1</th>\n",
       "      <td>2</td>\n",
       "      <td>He</td>\n",
       "      <td>Helium</td>\n",
       "      <td>0.49968</td>\n",
       "      <td>41.8</td>\n",
       "      <td>0.000166</td>\n",
       "    </tr>\n",
       "    <tr>\n",
       "      <th>2</th>\n",
       "      <td>3</td>\n",
       "      <td>Li</td>\n",
       "      <td>Lithium</td>\n",
       "      <td>0.43221</td>\n",
       "      <td>40.0</td>\n",
       "      <td>0.534000</td>\n",
       "    </tr>\n",
       "    <tr>\n",
       "      <th>3</th>\n",
       "      <td>4</td>\n",
       "      <td>Be</td>\n",
       "      <td>Beryllium</td>\n",
       "      <td>0.44384</td>\n",
       "      <td>63.7</td>\n",
       "      <td>1.848000</td>\n",
       "    </tr>\n",
       "    <tr>\n",
       "      <th>4</th>\n",
       "      <td>5</td>\n",
       "      <td>B</td>\n",
       "      <td>Boron</td>\n",
       "      <td>0.46245</td>\n",
       "      <td>76.0</td>\n",
       "      <td>2.370000</td>\n",
       "    </tr>\n",
       "  </tbody>\n",
       "</table>\n",
       "</div>"
      ],
      "text/plain": [
       "   Z Symbol    Element  Z_over_A  I_eV   Density\n",
       "0  1      H   Hydrogen   0.99212  19.2  0.000084\n",
       "1  2     He     Helium   0.49968  41.8  0.000166\n",
       "2  3     Li    Lithium   0.43221  40.0  0.534000\n",
       "3  4     Be  Beryllium   0.44384  63.7  1.848000\n",
       "4  5      B      Boron   0.46245  76.0  2.370000"
      ]
     },
     "metadata": {},
     "output_type": "display_data"
    },
    {
     "name": "stdout",
     "output_type": "stream",
     "text": [
      "density (g/cm^3): 11.35\n"
     ]
    },
    {
     "data": {
      "image/png": "[encoded data removed]",
      "text/plain": [
       "<matplotlib.figure.Figure at 0x1817d71128>"
      ]
     },
     "metadata": {},
     "output_type": "display_data"
    },
    {
     "data": {
      "image/png": "[encoded data removed]",
      "text/plain": [
       "<matplotlib.figure.Figure at 0x1822774198>"
      ]
     },
     "metadata": {},
     "output_type": "display_data"
    },
    {
     "data": {
      "image/png": "[encoded data removed]",
      "text/plain": [
       "<matplotlib.figure.Figure at 0x18189964a8>"
      ]
     },
     "metadata": {},
     "output_type": "display_data"
    },
    {
     "data": {
      "image/png": "[encoded data removed]",
      "text/plain": [
       "<matplotlib.figure.Figure at 0x1818f4c2b0>"
      ]
     },
     "metadata": {},
     "output_type": "display_data"
    },
    {
     "data": {
      "image/png": "[encoded data removed]",
      "text/plain": [
       "<matplotlib.figure.Figure at 0x1822dbbba8>"
      ]
     },
     "metadata": {},
     "output_type": "display_data"
    },
    {
     "data": {
      "image/png": "[encoded data removed]",
      "text/plain": [
       "<matplotlib.figure.Figure at 0x1822d01ba8>"
      ]
     },
     "metadata": {},
     "output_type": "display_data"
    },
    {
     "data": {
      "image/png": "[encoded data removed]",
      "text/plain": [
       "<matplotlib.figure.Figure at 0x182278b320>"
      ]
     },
     "metadata": {},
     "output_type": "display_data"
    },
    {
     "data": {
      "image/png": "[encoded data removed]",
      "text/plain": [
       "<matplotlib.figure.Figure at 0x18240dcf60>"
      ]
     },
     "metadata": {},
     "output_type": "display_data"
    },
    {
     "data": {
      "image/png": "[encoded data removed]",
      "text/plain": [
       "<matplotlib.figure.Figure at 0x1823019630>"
      ]
     },
     "metadata": {},
     "output_type": "display_data"
    },
    {
     "data": {
      "image/png": "[encoded data removed]",
      "text/plain": [
       "<matplotlib.figure.Figure at 0x182261c5c0>"
      ]
     },
     "metadata": {},
     "output_type": "display_data"
    },
    {
     "data": {
      "image/png": "[encoded data removed]",
      "text/plain": [
       "<matplotlib.figure.Figure at 0x1823a5d588>"
      ]
     },
     "metadata": {},
     "output_type": "display_data"
    },
    {
     "data": {
      "image/png": "[encoded data removed]",
      "text/plain": [
       "<matplotlib.figure.Figure at 0x182439e470>"
      ]
     },
     "metadata": {},
     "output_type": "display_data"
    },
    {
     "data": {
      "image/png": "[encoded data removed]",
      "text/plain": [
       "<matplotlib.figure.Figure at 0x182448edd8>"
      ]
     },
     "metadata": {},
     "output_type": "display_data"
    },
    {
     "data": {
      "image/png": "[encoded data removed]",
      "text/plain": [
       "<matplotlib.figure.Figure at 0x1822774e48>"
      ]
     },
     "metadata": {},
     "output_type": "display_data"
    }
   ],
   "source": [
    "symbol = 'Pb'\n",
    "\n",
    "# retrieve NIST element data\n",
    "elem_dat = bq.materials.fetch_element_data()\n",
    "display(elem_dat.head())\n",
    "density = elem_dat.Density[elem_dat.Symbol == symbol].values[0]\n",
    "print('density (g/cm^3):', density)\n",
    "\n",
    "# retrieve NIST XCOM cross sections\n",
    "xd = bq.xcom.fetch_xcom_data(symbol, e_range_kev=[50., 3000.])\n",
    "\n",
    "# calculate mean free path\n",
    "mfp_cm = 1 / (density * xd.total_wo_coh.values)\n",
    "\n",
    "plt.figure()\n",
    "plt.title('Mean free path of photons in ' + symbol)\n",
    "plt.semilogy(xd.energy, mfp_cm)\n",
    "plt.xlabel('Energy (keV)')\n",
    "plt.ylabel('Mean free path (cm)')\n",
    "plt.show()"
   ]
  },
  {
   "cell_type": "markdown",
   "metadata": {},
   "source": [
    "## 2e. Mean free path of photons in air"
   ]
  },
  {
   "cell_type": "code",
   "execution_count": 20,
   "metadata": {
    "scrolled": false
   },
   "outputs": [
    {
     "data": {
      "text/html": [
       "<div>\n",
       "<style scoped>\n",
       "    .dataframe tbody tr th:only-of-type {\n",
       "        vertical-align: middle;\n",
       "    }\n",
       "\n",
       "    .dataframe tbody tr th {\n",
       "        vertical-align: top;\n",
       "    }\n",
       "\n",
       "    .dataframe thead th {\n",
       "        text-align: right;\n",
       "    }\n",
       "</style>\n",
       "<table border=\"1\" class=\"dataframe\">\n",
       "  <thead>\n",
       "    <tr style=\"text-align: right;\">\n",
       "      <th></th>\n",
       "      <th>Material</th>\n",
       "      <th>Z_over_A</th>\n",
       "      <th>I_eV</th>\n",
       "      <th>Density</th>\n",
       "      <th>Composition_Z</th>\n",
       "      <th>Composition_symbol</th>\n",
       "    </tr>\n",
       "  </thead>\n",
       "  <tbody>\n",
       "    <tr>\n",
       "      <th>0</th>\n",
       "      <td>A-150 Tissue-Equivalent Plastic</td>\n",
       "      <td>0.54903</td>\n",
       "      <td>65.1</td>\n",
       "      <td>1.127000</td>\n",
       "      <td>[1: 0.101330, 6: 0.775498, 7: 0.035057, 8: 0.0...</td>\n",
       "      <td>[H 0.101330, C 0.775498, N 0.035057, O 0.05231...</td>\n",
       "    </tr>\n",
       "    <tr>\n",
       "      <th>1</th>\n",
       "      <td>Adipose Tissue (ICRU-44)</td>\n",
       "      <td>0.55579</td>\n",
       "      <td>64.8</td>\n",
       "      <td>0.950000</td>\n",
       "      <td>[1: 0.114000, 6: 0.598000, 7: 0.007000, 8: 0.2...</td>\n",
       "      <td>[H 0.114000, C 0.598000, N 0.007000, O 0.27800...</td>\n",
       "    </tr>\n",
       "    <tr>\n",
       "      <th>2</th>\n",
       "      <td>Air, Dry (near sea level)</td>\n",
       "      <td>0.49919</td>\n",
       "      <td>85.7</td>\n",
       "      <td>0.001205</td>\n",
       "      <td>[6: 0.000124, 7: 0.755268, 8: 0.231781, 18: 0....</td>\n",
       "      <td>[C 0.000124, N 0.755268, O 0.231781, Ar 0.012827]</td>\n",
       "    </tr>\n",
       "    <tr>\n",
       "      <th>3</th>\n",
       "      <td>Alanine</td>\n",
       "      <td>0.53876</td>\n",
       "      <td>71.9</td>\n",
       "      <td>1.424000</td>\n",
       "      <td>[1: 0.079192, 6: 0.404437, 7: 0.157213, 8: 0.3...</td>\n",
       "      <td>[H 0.079192, C 0.404437, N 0.157213, O 0.359157]</td>\n",
       "    </tr>\n",
       "    <tr>\n",
       "      <th>4</th>\n",
       "      <td>B-100 Bone-Equivalent Plastic</td>\n",
       "      <td>0.52740</td>\n",
       "      <td>85.9</td>\n",
       "      <td>1.450000</td>\n",
       "      <td>[1: 0.065473, 6: 0.536942, 7: 0.021500, 8: 0.0...</td>\n",
       "      <td>[H 0.065473, C 0.536942, N 0.021500, O 0.03208...</td>\n",
       "    </tr>\n",
       "  </tbody>\n",
       "</table>\n",
       "</div>"
      ],
      "text/plain": [
       "                          Material  Z_over_A  I_eV   Density  \\\n",
       "0  A-150 Tissue-Equivalent Plastic   0.54903  65.1  1.127000   \n",
       "1         Adipose Tissue (ICRU-44)   0.55579  64.8  0.950000   \n",
       "2        Air, Dry (near sea level)   0.49919  85.7  0.001205   \n",
       "3                          Alanine   0.53876  71.9  1.424000   \n",
       "4    B-100 Bone-Equivalent Plastic   0.52740  85.9  1.450000   \n",
       "\n",
       "                                       Composition_Z  \\\n",
       "0  [1: 0.101330, 6: 0.775498, 7: 0.035057, 8: 0.0...   \n",
       "1  [1: 0.114000, 6: 0.598000, 7: 0.007000, 8: 0.2...   \n",
       "2  [6: 0.000124, 7: 0.755268, 8: 0.231781, 18: 0....   \n",
       "3  [1: 0.079192, 6: 0.404437, 7: 0.157213, 8: 0.3...   \n",
       "4  [1: 0.065473, 6: 0.536942, 7: 0.021500, 8: 0.0...   \n",
       "\n",
       "                                  Composition_symbol  \n",
       "0  [H 0.101330, C 0.775498, N 0.035057, O 0.05231...  \n",
       "1  [H 0.114000, C 0.598000, N 0.007000, O 0.27800...  \n",
       "2  [C 0.000124, N 0.755268, O 0.231781, Ar 0.012827]  \n",
       "3   [H 0.079192, C 0.404437, N 0.157213, O 0.359157]  \n",
       "4  [H 0.065473, C 0.536942, N 0.021500, O 0.03208...  "
      ]
     },
     "metadata": {},
     "output_type": "display_data"
    },
    {
     "name": "stdout",
     "output_type": "stream",
     "text": [
      "density (g/cm^3): 0.0012050000000000001\n",
      "composition: ['C 0.000124', 'N 0.755268', 'O 0.231781', 'Ar 0.012827']\n"
     ]
    },
    {
     "data": {
      "image/png": "[encoded data removed]",
      "text/plain": [
       "<matplotlib.figure.Figure at 0x182413e080>"
      ]
     },
     "metadata": {},
     "output_type": "display_data"
    }
   ],
   "source": [
    "compound = 'Air, Dry (near sea level)'\n",
    "\n",
    "# retrieve NIST compound data\n",
    "comp_dat = bq.materials.fetch_compound_data()\n",
    "display(comp_dat.head())\n",
    "density = comp_dat.Density[comp_dat.Material == compound].values[0]\n",
    "composition = comp_dat.Composition_symbol[comp_dat.Material == compound].values[0]\n",
    "print('density (g/cm^3):', density)\n",
    "print('composition:', composition)\n",
    "\n",
    "# retrieve NIST XCOM cross sections\n",
    "xd = bq.xcom.fetch_xcom_data(composition, e_range_kev=[50., 3000.])\n",
    "\n",
    "# calculate mean free path\n",
    "mfp_cm = 1 / (density * xd.total_wo_coh.values)\n",
    "mfp_m = mfp_cm / 100.\n",
    "\n",
    "plt.figure()\n",
    "plt.title('Mean free path of photons in ' + compound)\n",
    "plt.semilogy(xd.energy, mfp_m)\n",
    "plt.xlabel('Energy (keV)')\n",
    "plt.ylabel('Mean free path (m)')\n",
    "plt.show()"
   ]
  },
  {
   "cell_type": "markdown",
   "metadata": {},
   "source": [
    "## 2f. Activity of a 40 lb bag of KCl salt"
   ]
  },
  {
   "cell_type": "code",
   "execution_count": 21,
   "metadata": {},
   "outputs": [
    {
     "name": "stdout",
     "output_type": "stream",
     "text": [
      "total mass: 18.10 kg\n",
      "mass of K:  9.49 kg\n",
      "number of K nuclei: 1.46e+26\n"
     ]
    }
   ],
   "source": [
    "# calculate number of K atoms in the sample\n",
    "from scipy.constants import physical_constants\n",
    "AMU = physical_constants['unified atomic mass unit'][0]\n",
    "\n",
    "K = bq.Element('Potassium')\n",
    "Cl = bq.Element('Cl')\n",
    "\n",
    "mass = 18.1  # kg\n",
    "mass_K = mass * K.atomic_mass / (K.atomic_mass + Cl.atomic_mass)\n",
    "n_K = mass_K / AMU / K.atomic_mass\n",
    "print('total mass: {:.2f} kg'.format(mass))\n",
    "print('mass of K:  {:.2f} kg'.format(mass_K))\n",
    "print('number of K nuclei: {:.2e}'.format(n_K))"
   ]
  },
  {
   "cell_type": "code",
   "execution_count": 22,
   "metadata": {},
   "outputs": [
    {
     "name": "stdout",
     "output_type": "stream",
     "text": [
      "K-40 abundance: 0.0117+/-0.0001%\n",
      "number of K-40 nuclei: 1.71e+22\n"
     ]
    }
   ],
   "source": [
    "# calculate number of K-40 nuclei\n",
    "K40 = bq.Isotope('K-40')\n",
    "print('K-40 abundance: {:.4f}%'.format(K40.abundance))\n",
    "n_K40 = n_K * K40.abundance.nominal_value / 100\n",
    "print('number of K-40 nuclei: {:.2e}'.format(n_K40))"
   ]
  },
  {
   "cell_type": "code",
   "execution_count": 23,
   "metadata": {},
   "outputs": [
    {
     "name": "stdout",
     "output_type": "stream",
     "text": [
      "half-life: 3.938e+16 s\n",
      "half-life: 1.249e+09 y\n",
      "activity: 3.01e+05 Bq\n",
      "activity: 8.14e+00 uCi\n"
     ]
    }
   ],
   "source": [
    "# determine activity of K-40\n",
    "# n(t) = n0 2^(-t / hl) = n0 exp(-t ln(2) / hl)\n",
    "# dn/dt = -n0 ln(2) / hl exp(-t ln(2) / hl)\n",
    "print('half-life: {:.3e} s'.format(K40.half_life))\n",
    "print('half-life: {:.3e} y'.format(K40.half_life / (3600 * 24 * 365)))\n",
    "\n",
    "activity_Bq = n_K40 * np.log(2) / K40.half_life  # could also use n_K40 * K40.decay_constant\n",
    "print('activity: {:.2e} Bq'.format(activity_Bq))\n",
    "activity_uCi = activity_Bq / 3.7e4\n",
    "print('activity: {:.2e} uCi'.format(activity_uCi))"
   ]
  },
  {
   "cell_type": "markdown",
   "metadata": {},
   "source": [
    "# 3. Features in development (contributions welcome!)\n",
    "\n",
    "* `Spectrum.plot` method\n",
    "* rebinning a `Spectrum`\n",
    "* additional `Spectrum` file types (N42, CHN, CSV)\n",
    "* automatic peak finding and calibration\n",
    "* fitting spectral features (e.g., gaussian lines with different background models)\n",
    "\n",
    "We meet biweekly during lunch on Tuesdays starting 4/10."
   ]
  },
  {
   "cell_type": "code",
   "execution_count": null,
   "metadata": {
    "collapsed": true
   },
   "outputs": [],
   "source": []
  }
 ],
 "metadata": {
  "kernelspec": {
   "display_name": "Python 3",
   "language": "python",
   "name": "python3"
  },
  "language_info": {
   "codemirror_mode": {
    "name": "ipython",
    "version": 3
   },
   "file_extension": ".py",
   "mimetype": "text/x-python",
   "name": "python",
   "nbconvert_exporter": "python",
   "pygments_lexer": "ipython3",
   "version": "3.6.5"
  }
 },
 "nbformat": 4,
 "nbformat_minor": 1
}
